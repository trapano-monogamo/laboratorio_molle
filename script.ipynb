{
 "cells": [
  {
   "cell_type": "markdown",
   "metadata": {},
   "source": [
    "# Spring's constant measuring"
   ]
  },
  {
   "cell_type": "markdown",
   "metadata": {},
   "source": [
    "## Importing libraries"
   ]
  },
  {
   "cell_type": "code",
   "execution_count": 82,
   "metadata": {},
   "outputs": [],
   "source": [
    "import numpy as np\n",
    "import matplotlib.pyplot as plt\n",
    "import scipy\n",
    "import pandas as pd\n",
    "import os\n",
    "from functools import reduce\n",
    "\n",
    "from modules import LinearRegression"
   ]
  },
  {
   "cell_type": "markdown",
   "metadata": {},
   "source": [
    "## Load data\n",
    "\n",
    "Given a CSV file, use `pandas` to read the data into a table. Then make sure the entries have the correct `dtype` and truncate excess data."
   ]
  },
  {
   "cell_type": "code",
   "execution_count": 83,
   "metadata": {},
   "outputs": [
    {
     "name": "stdout",
     "output_type": "stream",
     "text": [
      "CSV:\n",
      "['./data/sonar_non-pretensionata_statico.csv', './data/sonar_non-pretensionata_dinamico.csv', './data/sonar_pretensionata_dinamico.csv', './data/sonar_pretensionata_statico.csv']\n",
      "EXCEL:\n",
      "['./data/masse_sonar_non-pretensionata.xlsx', './data/dati laboratorio.xlsx', './data/misure_masse.xlsx', './data/calibro_non-pretensionata_statico.xlsx', './data/masse_sonar_pretensionata.xlsx', './data/calibro_pretensionata_statico.xlsx']\n"
     ]
    }
   ],
   "source": [
    "# collect filenames of exported data\n",
    "\n",
    "data_dir = \"./data\"\n",
    "\n",
    "csv_data = []\n",
    "excel_data = []\n",
    "\n",
    "for root, dirs, files in os.walk(data_dir):\n",
    "    for file in files:\n",
    "        current_file_path = os.path.join(root, file).replace(\"\\\\\", \"/\") # fix the unbearably frustrating flaws of the wanna-be OS... \"Windows\"\n",
    "        if \"xlsx\" in file:\n",
    "            excel_data.append(current_file_path)\n",
    "        elif \"csv\" in file:\n",
    "            csv_data.append(current_file_path)\n",
    "    break # stop at first recursion level: only ./data\n",
    "\n",
    "print(f\"CSV:\\n{csv_data}\\nEXCEL:\\n{excel_data}\")"
   ]
  },
  {
   "cell_type": "code",
   "execution_count": 84,
   "metadata": {},
   "outputs": [
    {
     "name": "stdout",
     "output_type": "stream",
     "text": [
      "dict_keys(['sonar_non-pretensionata_statico', 'sonar_non-pretensionata_dinamico', 'sonar_pretensionata_dinamico', 'sonar_pretensionata_statico', 'masse_sonar_non-pretensionata', 'dati laboratorio', 'misure_masse', 'calibro_non-pretensionata_statico', 'masse_sonar_pretensionata', 'calibro_pretensionata_statico'])\n"
     ]
    }
   ],
   "source": [
    "def read_sonar_data(filename: str):\n",
    "    data = pd.read_csv(\n",
    "            \"Misure Molla1 Sensore (bene).csv\", sep=\";\"\n",
    "        ).replace(\",\", \".\", regex=True)\n",
    "\n",
    "    data.dropna(inplace=True)\n",
    "    data.drop(index=data.index[0], axis=0, inplace=True)\n",
    "\n",
    "    # data.convert_dtypes()\n",
    "    for col in data.columns:\n",
    "        data[col] = data[col].apply(pd.to_numeric)\n",
    "\n",
    "    return data\n",
    "\n",
    "def read_excel_data(filename: str):\n",
    "    pass\n",
    "\n",
    "\n",
    "\n",
    "datasets = dict()\n",
    "\n",
    "for file in csv_data + excel_data:\n",
    "   datasets[os.path.basename(file).split('.')[0]] = read_sonar_data(file)\n",
    "\n",
    "print(datasets.keys())\n",
    "print(datasets['misure_masse'])"
   ]
  },
  {
   "cell_type": "code",
   "execution_count": 85,
   "metadata": {},
   "outputs": [
    {
     "data": {
      "text/plain": [
       "'masse = pd.read_csv(\"Masse\").convert_dtypes().to_dict()\\n\\nprint(masse)'"
      ]
     },
     "execution_count": 85,
     "metadata": {},
     "output_type": "execute_result"
    }
   ],
   "source": [
    "\"\"\"masse = pd.read_csv(\"Masse\").convert_dtypes().to_dict()\n",
    "\n",
    "print(masse)\"\"\""
   ]
  },
  {
   "cell_type": "code",
   "execution_count": 86,
   "metadata": {},
   "outputs": [
    {
     "name": "stdout",
     "output_type": "stream",
     "text": [
      "<class 'pandas.core.frame.DataFrame'>\n",
      "Index: 1029 entries, 1 to 1029\n",
      "Data columns (total 7 columns):\n",
      " #   Column                Non-Null Count  Dtype  \n",
      "---  ------                --------------  -----  \n",
      " 0   Position (mm) Run #1  1029 non-null   float64\n",
      " 1   Position (mm) Run #2  1029 non-null   float64\n",
      " 2   Position (mm) Run #3  1029 non-null   float64\n",
      " 3   Position (mm) Run #4  1029 non-null   float64\n",
      " 4   Position (mm) Run #5  1029 non-null   float64\n",
      " 5   Position (mm) Run #6  1029 non-null   float64\n",
      " 6   Position (mm) Run #7  1029 non-null   float64\n",
      "dtypes: float64(7)\n",
      "memory usage: 64.3 KB\n"
     ]
    }
   ],
   "source": [
    "# TODO: make this a function that takes the filename as input and only outputs the DataFrame, then truncate and convert only when/where needed in a separate part of the code.\n",
    "# TODO: write a portion of code that handles all the different data files and calls the right functions to anylize their data.\n",
    "\n",
    "data = pd.read_csv(\"Misure Molla1 Sensore (bene).csv\", sep=\";\").replace(\n",
    "    \",\", \".\", regex=True\n",
    ")\n",
    "\n",
    "data.dropna(inplace=True)\n",
    "data.drop(index=data.index[0], axis=0, inplace=True)\n",
    "\n",
    "# data.convert_dtypes()\n",
    "for col in data.columns:\n",
    "    data[col] = data[col].apply(pd.to_numeric)\n",
    "\n",
    "data.info()"
   ]
  },
  {
   "cell_type": "markdown",
   "metadata": {},
   "source": [
    "## Clean data"
   ]
  },
  {
   "cell_type": "code",
   "execution_count": 87,
   "metadata": {},
   "outputs": [],
   "source": [
    "# this is only needed for the data acquired with the sonar\n",
    "\n",
    "new_column_names = {f\"Position (mm) Run #{i+1}\": f\"Run{i+1}(mm)\" for i in range(0, 7)}\n",
    "data = data.rename(columns=new_column_names)\n",
    "del new_column_names"
   ]
  },
  {
   "cell_type": "code",
   "execution_count": 88,
   "metadata": {},
   "outputs": [
    {
     "name": "stdout",
     "output_type": "stream",
     "text": [
      "<class 'pandas.core.frame.DataFrame'>\n",
      "Index: 1029 entries, 1 to 1029\n",
      "Data columns (total 7 columns):\n",
      " #   Column    Non-Null Count  Dtype  \n",
      "---  ------    --------------  -----  \n",
      " 0   Run1(mm)  1029 non-null   float64\n",
      " 1   Run2(mm)  1029 non-null   float64\n",
      " 2   Run3(mm)  1029 non-null   float64\n",
      " 3   Run4(mm)  1029 non-null   float64\n",
      " 4   Run5(mm)  1029 non-null   float64\n",
      " 5   Run6(mm)  1029 non-null   float64\n",
      " 6   Run7(mm)  1029 non-null   float64\n",
      "dtypes: float64(7)\n",
      "memory usage: 64.3 KB\n"
     ]
    }
   ],
   "source": [
    "data.info()"
   ]
  },
  {
   "cell_type": "code",
   "execution_count": 89,
   "metadata": {},
   "outputs": [
    {
     "data": {
      "text/html": [
       "<div>\n",
       "<style scoped>\n",
       "    .dataframe tbody tr th:only-of-type {\n",
       "        vertical-align: middle;\n",
       "    }\n",
       "\n",
       "    .dataframe tbody tr th {\n",
       "        vertical-align: top;\n",
       "    }\n",
       "\n",
       "    .dataframe thead th {\n",
       "        text-align: right;\n",
       "    }\n",
       "</style>\n",
       "<table border=\"1\" class=\"dataframe\">\n",
       "  <thead>\n",
       "    <tr style=\"text-align: right;\">\n",
       "      <th></th>\n",
       "      <th>Run1(mm)</th>\n",
       "      <th>Run2(mm)</th>\n",
       "      <th>Run3(mm)</th>\n",
       "      <th>Run4(mm)</th>\n",
       "      <th>Run5(mm)</th>\n",
       "      <th>Run6(mm)</th>\n",
       "      <th>Run7(mm)</th>\n",
       "    </tr>\n",
       "  </thead>\n",
       "  <tbody>\n",
       "    <tr>\n",
       "      <th>1</th>\n",
       "      <td>0.34</td>\n",
       "      <td>-12.56</td>\n",
       "      <td>-25.28</td>\n",
       "      <td>-38.01</td>\n",
       "      <td>-50.88</td>\n",
       "      <td>-63.96</td>\n",
       "      <td>-76.88</td>\n",
       "    </tr>\n",
       "    <tr>\n",
       "      <th>2</th>\n",
       "      <td>0.34</td>\n",
       "      <td>-12.56</td>\n",
       "      <td>-25.28</td>\n",
       "      <td>-37.98</td>\n",
       "      <td>-51.08</td>\n",
       "      <td>-64.16</td>\n",
       "      <td>-76.88</td>\n",
       "    </tr>\n",
       "    <tr>\n",
       "      <th>3</th>\n",
       "      <td>0.37</td>\n",
       "      <td>-12.53</td>\n",
       "      <td>-25.28</td>\n",
       "      <td>-38.18</td>\n",
       "      <td>-51.06</td>\n",
       "      <td>-64.16</td>\n",
       "      <td>-76.86</td>\n",
       "    </tr>\n",
       "    <tr>\n",
       "      <th>4</th>\n",
       "      <td>0.17</td>\n",
       "      <td>-12.73</td>\n",
       "      <td>-25.25</td>\n",
       "      <td>-38.18</td>\n",
       "      <td>-51.26</td>\n",
       "      <td>-64.13</td>\n",
       "      <td>-77.06</td>\n",
       "    </tr>\n",
       "    <tr>\n",
       "      <th>5</th>\n",
       "      <td>0.17</td>\n",
       "      <td>-12.73</td>\n",
       "      <td>-25.46</td>\n",
       "      <td>-38.18</td>\n",
       "      <td>-51.23</td>\n",
       "      <td>-64.33</td>\n",
       "      <td>-77.06</td>\n",
       "    </tr>\n",
       "  </tbody>\n",
       "</table>\n",
       "</div>"
      ],
      "text/plain": [
       "   Run1(mm)  Run2(mm)  Run3(mm)  Run4(mm)  Run5(mm)  Run6(mm)  Run7(mm)\n",
       "1      0.34    -12.56    -25.28    -38.01    -50.88    -63.96    -76.88\n",
       "2      0.34    -12.56    -25.28    -37.98    -51.08    -64.16    -76.88\n",
       "3      0.37    -12.53    -25.28    -38.18    -51.06    -64.16    -76.86\n",
       "4      0.17    -12.73    -25.25    -38.18    -51.26    -64.13    -77.06\n",
       "5      0.17    -12.73    -25.46    -38.18    -51.23    -64.33    -77.06"
      ]
     },
     "execution_count": 89,
     "metadata": {},
     "output_type": "execute_result"
    }
   ],
   "source": [
    "data.head()"
   ]
  },
  {
   "cell_type": "code",
   "execution_count": 90,
   "metadata": {},
   "outputs": [
    {
     "data": {
      "text/html": [
       "<div>\n",
       "<style scoped>\n",
       "    .dataframe tbody tr th:only-of-type {\n",
       "        vertical-align: middle;\n",
       "    }\n",
       "\n",
       "    .dataframe tbody tr th {\n",
       "        vertical-align: top;\n",
       "    }\n",
       "\n",
       "    .dataframe thead th {\n",
       "        text-align: right;\n",
       "    }\n",
       "</style>\n",
       "<table border=\"1\" class=\"dataframe\">\n",
       "  <thead>\n",
       "    <tr style=\"text-align: right;\">\n",
       "      <th></th>\n",
       "      <th>Run1(mm)</th>\n",
       "      <th>Run2(mm)</th>\n",
       "      <th>Run3(mm)</th>\n",
       "      <th>Run4(mm)</th>\n",
       "      <th>Run5(mm)</th>\n",
       "      <th>Run6(mm)</th>\n",
       "      <th>Run7(mm)</th>\n",
       "    </tr>\n",
       "  </thead>\n",
       "  <tbody>\n",
       "    <tr>\n",
       "      <th>1025</th>\n",
       "      <td>0.34</td>\n",
       "      <td>-12.73</td>\n",
       "      <td>-25.46</td>\n",
       "      <td>-38.36</td>\n",
       "      <td>-51.60</td>\n",
       "      <td>-64.33</td>\n",
       "      <td>-77.23</td>\n",
       "    </tr>\n",
       "    <tr>\n",
       "      <th>1026</th>\n",
       "      <td>0.31</td>\n",
       "      <td>-12.73</td>\n",
       "      <td>-25.46</td>\n",
       "      <td>-38.36</td>\n",
       "      <td>-51.60</td>\n",
       "      <td>-64.33</td>\n",
       "      <td>-77.23</td>\n",
       "    </tr>\n",
       "    <tr>\n",
       "      <th>1027</th>\n",
       "      <td>0.52</td>\n",
       "      <td>-12.73</td>\n",
       "      <td>-25.46</td>\n",
       "      <td>-38.36</td>\n",
       "      <td>-51.57</td>\n",
       "      <td>-64.33</td>\n",
       "      <td>-77.23</td>\n",
       "    </tr>\n",
       "    <tr>\n",
       "      <th>1028</th>\n",
       "      <td>0.52</td>\n",
       "      <td>-12.73</td>\n",
       "      <td>-25.43</td>\n",
       "      <td>-38.36</td>\n",
       "      <td>-51.77</td>\n",
       "      <td>-64.33</td>\n",
       "      <td>-77.23</td>\n",
       "    </tr>\n",
       "    <tr>\n",
       "      <th>1029</th>\n",
       "      <td>0.52</td>\n",
       "      <td>-12.73</td>\n",
       "      <td>-25.63</td>\n",
       "      <td>-38.36</td>\n",
       "      <td>-51.77</td>\n",
       "      <td>-64.33</td>\n",
       "      <td>-77.23</td>\n",
       "    </tr>\n",
       "  </tbody>\n",
       "</table>\n",
       "</div>"
      ],
      "text/plain": [
       "      Run1(mm)  Run2(mm)  Run3(mm)  Run4(mm)  Run5(mm)  Run6(mm)  Run7(mm)\n",
       "1025      0.34    -12.73    -25.46    -38.36    -51.60    -64.33    -77.23\n",
       "1026      0.31    -12.73    -25.46    -38.36    -51.60    -64.33    -77.23\n",
       "1027      0.52    -12.73    -25.46    -38.36    -51.57    -64.33    -77.23\n",
       "1028      0.52    -12.73    -25.43    -38.36    -51.77    -64.33    -77.23\n",
       "1029      0.52    -12.73    -25.63    -38.36    -51.77    -64.33    -77.23"
      ]
     },
     "execution_count": 90,
     "metadata": {},
     "output_type": "execute_result"
    }
   ],
   "source": [
    "data.tail()"
   ]
  },
  {
   "cell_type": "markdown",
   "metadata": {},
   "source": [
    "## Analyze data\n",
    "\n",
    "For the **static method**, the sonar's signal is hypothesised to have a very small amplitude, so the measure of the mass' displacement is the mean of the recorded positions.<BR><BR>\n",
    "For the **dynamic method**, we isolate the peaks of the oscillating signal and compute the mean of the period between two adjacent peaks. From there the resulting period is used to approximate the frequency of the oscillation."
   ]
  },
  {
   "cell_type": "code",
   "execution_count": 91,
   "metadata": {},
   "outputs": [
    {
     "name": "stdout",
     "output_type": "stream",
     "text": [
      "[  0.19 -12.71 -25.71 -38.34 -51.45 -64.31 -77.2 ]\n"
     ]
    }
   ],
   "source": [
    "# Analyze static method\n",
    "\n",
    "averages = np.zeros(7)\n",
    "for run in range(7):\n",
    "    averages[run] += np.mean(data[f\"Run{run+1}(mm)\"])\n",
    "\n",
    "averages = np.round_(averages, decimals=2)\n",
    "print(averages)\n",
    "\n",
    "# k = 9.81 * (masse[-1] - masse[0]) / (averages[-1] - averages[0])"
   ]
  },
  {
   "cell_type": "code",
   "execution_count": 92,
   "metadata": {},
   "outputs": [],
   "source": [
    "# Analyze dynamic method\n",
    "\n",
    "def discrete_derivative(domain: list, curve: list):\n",
    "    d = [0]\n",
    "    for i in range(1, len(curve)):\n",
    "        d.append((curve[i] - curve[i - 1]) / (domain[i] - domain[i - 1]))\n",
    "    return d\n",
    "\n",
    "\n",
    "# windowed peaks isolation\n",
    "def windowed_peaks(signal: list):\n",
    "    peaks = []\n",
    "    for i in range(2, len(signal) - 2, 4):\n",
    "        if (\n",
    "            reduce(\n",
    "                lambda x, y: x * y,\n",
    "                discrete_derivative(list(range(i - 2, i + 3)), signal[i - 2 : i + 3]),\n",
    "            )\n",
    "            < 0\n",
    "        ):\n",
    "            peaks.append(max(signal[i - 2 : i + 3]))\n",
    "    return peaks"
   ]
  },
  {
   "cell_type": "code",
   "execution_count": 93,
   "metadata": {},
   "outputs": [
    {
     "ename": "KeyError",
     "evalue": "\"None of [Index([0.34, 0.34, 0.37, 0.17, 0.17, 0.17, 0.17, 0.17,  0.2,  0.0,\\n       ...\\n       0.34, 0.34, 0.34, 0.34, 0.34, 0.34, 0.31, 0.52, 0.52, 0.52],\\n      dtype='float64', length=1029)] are in the [columns]\"",
     "output_type": "error",
     "traceback": [
      "\u001b[0;31m---------------------------------------------------------------------------\u001b[0m",
      "\u001b[0;31mKeyError\u001b[0m                                  Traceback (most recent call last)",
      "Cell \u001b[0;32mIn[93], line 7\u001b[0m\n\u001b[1;32m      3\u001b[0m     \u001b[38;5;28;01mfor\u001b[39;00m v \u001b[38;5;129;01min\u001b[39;00m wf:\n\u001b[1;32m      4\u001b[0m         \u001b[38;5;28mprint\u001b[39m(windowed_peaks(wf))\n\u001b[0;32m----> 7\u001b[0m \u001b[43mcalculate_mean_period\u001b[49m\u001b[43m(\u001b[49m\u001b[43mdata\u001b[49m\u001b[43m[\u001b[49m\u001b[43mdata\u001b[49m\u001b[38;5;241;43m.\u001b[39;49m\u001b[43mcolumns\u001b[49m\u001b[43m[\u001b[49m\u001b[38;5;241;43m0\u001b[39;49m\u001b[43m]\u001b[49m\u001b[43m]\u001b[49m\u001b[43m)\u001b[49m\n\u001b[1;32m      9\u001b[0m \u001b[38;5;66;03m# for col in data.columns:\u001b[39;00m\n\u001b[1;32m     10\u001b[0m \u001b[38;5;66;03m# calculate_mean_period(col)\u001b[39;00m\n",
      "Cell \u001b[0;32mIn[93], line 2\u001b[0m, in \u001b[0;36mcalculate_mean_period\u001b[0;34m(column_id)\u001b[0m\n\u001b[1;32m      1\u001b[0m \u001b[38;5;28;01mdef\u001b[39;00m \u001b[38;5;21mcalculate_mean_period\u001b[39m(column_id: \u001b[38;5;28mstr\u001b[39m):\n\u001b[0;32m----> 2\u001b[0m     wf \u001b[38;5;241m=\u001b[39m \u001b[43mdata\u001b[49m\u001b[43m[\u001b[49m\u001b[43mcolumn_id\u001b[49m\u001b[43m]\u001b[49m\u001b[38;5;241m.\u001b[39marray\n\u001b[1;32m      3\u001b[0m     \u001b[38;5;28;01mfor\u001b[39;00m v \u001b[38;5;129;01min\u001b[39;00m wf:\n\u001b[1;32m      4\u001b[0m         \u001b[38;5;28mprint\u001b[39m(windowed_peaks(wf))\n",
      "File \u001b[0;32m~/laboratorio/Relazione-di-laboratorio/lib/python3.10/site-packages/pandas/core/frame.py:4096\u001b[0m, in \u001b[0;36mDataFrame.__getitem__\u001b[0;34m(self, key)\u001b[0m\n\u001b[1;32m   4094\u001b[0m     \u001b[38;5;28;01mif\u001b[39;00m is_iterator(key):\n\u001b[1;32m   4095\u001b[0m         key \u001b[38;5;241m=\u001b[39m \u001b[38;5;28mlist\u001b[39m(key)\n\u001b[0;32m-> 4096\u001b[0m     indexer \u001b[38;5;241m=\u001b[39m \u001b[38;5;28;43mself\u001b[39;49m\u001b[38;5;241;43m.\u001b[39;49m\u001b[43mcolumns\u001b[49m\u001b[38;5;241;43m.\u001b[39;49m\u001b[43m_get_indexer_strict\u001b[49m\u001b[43m(\u001b[49m\u001b[43mkey\u001b[49m\u001b[43m,\u001b[49m\u001b[43m \u001b[49m\u001b[38;5;124;43m\"\u001b[39;49m\u001b[38;5;124;43mcolumns\u001b[39;49m\u001b[38;5;124;43m\"\u001b[39;49m\u001b[43m)\u001b[49m[\u001b[38;5;241m1\u001b[39m]\n\u001b[1;32m   4098\u001b[0m \u001b[38;5;66;03m# take() does not accept boolean indexers\u001b[39;00m\n\u001b[1;32m   4099\u001b[0m \u001b[38;5;28;01mif\u001b[39;00m \u001b[38;5;28mgetattr\u001b[39m(indexer, \u001b[38;5;124m\"\u001b[39m\u001b[38;5;124mdtype\u001b[39m\u001b[38;5;124m\"\u001b[39m, \u001b[38;5;28;01mNone\u001b[39;00m) \u001b[38;5;241m==\u001b[39m \u001b[38;5;28mbool\u001b[39m:\n",
      "File \u001b[0;32m~/laboratorio/Relazione-di-laboratorio/lib/python3.10/site-packages/pandas/core/indexes/base.py:6200\u001b[0m, in \u001b[0;36mIndex._get_indexer_strict\u001b[0;34m(self, key, axis_name)\u001b[0m\n\u001b[1;32m   6197\u001b[0m \u001b[38;5;28;01melse\u001b[39;00m:\n\u001b[1;32m   6198\u001b[0m     keyarr, indexer, new_indexer \u001b[38;5;241m=\u001b[39m \u001b[38;5;28mself\u001b[39m\u001b[38;5;241m.\u001b[39m_reindex_non_unique(keyarr)\n\u001b[0;32m-> 6200\u001b[0m \u001b[38;5;28;43mself\u001b[39;49m\u001b[38;5;241;43m.\u001b[39;49m\u001b[43m_raise_if_missing\u001b[49m\u001b[43m(\u001b[49m\u001b[43mkeyarr\u001b[49m\u001b[43m,\u001b[49m\u001b[43m \u001b[49m\u001b[43mindexer\u001b[49m\u001b[43m,\u001b[49m\u001b[43m \u001b[49m\u001b[43maxis_name\u001b[49m\u001b[43m)\u001b[49m\n\u001b[1;32m   6202\u001b[0m keyarr \u001b[38;5;241m=\u001b[39m \u001b[38;5;28mself\u001b[39m\u001b[38;5;241m.\u001b[39mtake(indexer)\n\u001b[1;32m   6203\u001b[0m \u001b[38;5;28;01mif\u001b[39;00m \u001b[38;5;28misinstance\u001b[39m(key, Index):\n\u001b[1;32m   6204\u001b[0m     \u001b[38;5;66;03m# GH 42790 - Preserve name from an Index\u001b[39;00m\n",
      "File \u001b[0;32m~/laboratorio/Relazione-di-laboratorio/lib/python3.10/site-packages/pandas/core/indexes/base.py:6249\u001b[0m, in \u001b[0;36mIndex._raise_if_missing\u001b[0;34m(self, key, indexer, axis_name)\u001b[0m\n\u001b[1;32m   6247\u001b[0m \u001b[38;5;28;01mif\u001b[39;00m nmissing:\n\u001b[1;32m   6248\u001b[0m     \u001b[38;5;28;01mif\u001b[39;00m nmissing \u001b[38;5;241m==\u001b[39m \u001b[38;5;28mlen\u001b[39m(indexer):\n\u001b[0;32m-> 6249\u001b[0m         \u001b[38;5;28;01mraise\u001b[39;00m \u001b[38;5;167;01mKeyError\u001b[39;00m(\u001b[38;5;124mf\u001b[39m\u001b[38;5;124m\"\u001b[39m\u001b[38;5;124mNone of [\u001b[39m\u001b[38;5;132;01m{\u001b[39;00mkey\u001b[38;5;132;01m}\u001b[39;00m\u001b[38;5;124m] are in the [\u001b[39m\u001b[38;5;132;01m{\u001b[39;00maxis_name\u001b[38;5;132;01m}\u001b[39;00m\u001b[38;5;124m]\u001b[39m\u001b[38;5;124m\"\u001b[39m)\n\u001b[1;32m   6251\u001b[0m     not_found \u001b[38;5;241m=\u001b[39m \u001b[38;5;28mlist\u001b[39m(ensure_index(key)[missing_mask\u001b[38;5;241m.\u001b[39mnonzero()[\u001b[38;5;241m0\u001b[39m]]\u001b[38;5;241m.\u001b[39munique())\n\u001b[1;32m   6252\u001b[0m     \u001b[38;5;28;01mraise\u001b[39;00m \u001b[38;5;167;01mKeyError\u001b[39;00m(\u001b[38;5;124mf\u001b[39m\u001b[38;5;124m\"\u001b[39m\u001b[38;5;132;01m{\u001b[39;00mnot_found\u001b[38;5;132;01m}\u001b[39;00m\u001b[38;5;124m not in index\u001b[39m\u001b[38;5;124m\"\u001b[39m)\n",
      "\u001b[0;31mKeyError\u001b[0m: \"None of [Index([0.34, 0.34, 0.37, 0.17, 0.17, 0.17, 0.17, 0.17,  0.2,  0.0,\\n       ...\\n       0.34, 0.34, 0.34, 0.34, 0.34, 0.34, 0.31, 0.52, 0.52, 0.52],\\n      dtype='float64', length=1029)] are in the [columns]\""
     ]
    }
   ],
   "source": [
    "def calculate_mean_period(column_id: str):\n",
    "    wf = data[column_id].array\n",
    "    for v in wf:\n",
    "        print(windowed_peaks(wf))\n",
    "\n",
    "\n",
    "calculate_mean_period(data[data.columns[0]])\n",
    "\n",
    "# for col in data.columns:\n",
    "# calculate_mean_period(col)"
   ]
  }
 ],
 "metadata": {
  "kernelspec": {
   "display_name": "Python 3",
   "language": "python",
   "name": "python3"
  },
  "language_info": {
   "codemirror_mode": {
    "name": "ipython",
    "version": 3
   },
   "file_extension": ".py",
   "mimetype": "text/x-python",
   "name": "python",
   "nbconvert_exporter": "python",
   "pygments_lexer": "ipython3",
   "version": "3.12.2"
  }
 },
 "nbformat": 4,
 "nbformat_minor": 2
}
