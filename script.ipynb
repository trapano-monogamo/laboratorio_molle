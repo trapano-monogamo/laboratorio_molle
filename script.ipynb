{
 "cells": [
  {
   "cell_type": "markdown",
   "metadata": {},
   "source": [
    "# Spring's constant measuring"
   ]
  },
  {
   "cell_type": "markdown",
   "metadata": {},
   "source": [
    "## Importing libraries"
   ]
  },
  {
   "cell_type": "code",
   "execution_count": 10,
   "metadata": {},
   "outputs": [],
   "source": [
    "import numpy as np\n",
    "import matplotlib.pyplot as plt\n",
    "import scipy\n",
    "import pandas as pd\n",
    "import os\n",
    "from functools import reduce\n",
    "\n",
    "from modules import LinearRegression"
   ]
  },
  {
   "cell_type": "markdown",
   "metadata": {},
   "source": [
    "## Load data\n",
    "\n",
    "The following code creates a table (dict) with entries that have:\n",
    "- as key, the name of the file from which the data is read\n",
    "- as value, the DataFrame returned by pandas when reading that file\n",
    "\n",
    "Getting data from this table involves using the file from which the data is read as key and then parsing the columns of the corresponding DataFrame.\n",
    "\n",
    "e.g.:\n",
    "\n",
    "```\n",
    "masses_measurements = datasets['misure_masse']\n",
    "used_objects = masses_measurements[masses_measurements.columns[0]]\n",
    "masses = masses_measurements[masses_measurements.columns[1]]\n",
    "```"
   ]
  },
  {
   "cell_type": "code",
   "execution_count": 11,
   "metadata": {},
   "outputs": [
    {
     "name": "stdout",
     "output_type": "stream",
     "text": [
      "CSV:\n",
      "['./data/sonar_non-pretensionata_statico.csv', './data/sonar_pretensionata_statico.csv', './data/sonar_non-pretensionata_dinamico.csv', './data/sonar_pretensionata_dinamico.csv']\n",
      "EXCEL:\n",
      "['./data/masse_sonar_non-pretensionata.xlsx', './data/calibro_pretensionata_statico.xlsx', './data/masse_sonar_pretensionata.xlsx', './data/misure_masse.xlsx', './data/calibro_non-pretensionata_statico.xlsx']\n"
     ]
    }
   ],
   "source": [
    "# collect filenames of exported data\n",
    "\n",
    "data_dir = \"./data\"\n",
    "\n",
    "csv_data = []\n",
    "excel_data = []\n",
    "\n",
    "for root, dirs, files in os.walk(data_dir):\n",
    "    for file in files:\n",
    "        current_file_path = os.path.join(root, file).replace(\n",
    "            \"\\\\\", \"/\"\n",
    "        )  # fix the unbearably frustrating flaws of the wanna-be OS... \"Windows\"\n",
    "        if \"xlsx\" in file:\n",
    "            excel_data.append(current_file_path)\n",
    "        elif \"csv\" in file:\n",
    "            csv_data.append(current_file_path)\n",
    "    break  # stop at first recursion level: only ./data\n",
    "\n",
    "print(f\"CSV:\\n{csv_data}\\nEXCEL:\\n{excel_data}\")"
   ]
  },
  {
   "cell_type": "code",
   "execution_count": 12,
   "metadata": {},
   "outputs": [
    {
     "name": "stdout",
     "output_type": "stream",
     "text": [
      "dict_keys(['sonar_non-pretensionata_statico', 'sonar_pretensionata_statico', 'sonar_non-pretensionata_dinamico', 'sonar_pretensionata_dinamico', 'masse_sonar_non-pretensionata', 'calibro_pretensionata_statico', 'masse_sonar_pretensionata', 'misure_masse', 'calibro_non-pretensionata_statico'])\n",
      "\n",
      "key: sonar_non-pretensionata_statico\n",
      "<class 'pandas.core.frame.DataFrame'>\n",
      "Index: 1027 entries, 1 to 1027\n",
      "Data columns (total 6 columns):\n",
      " #   Column                Non-Null Count  Dtype  \n",
      "---  ------                --------------  -----  \n",
      " 0   Position (mm) Run #1  1027 non-null   float64\n",
      " 1   Position (mm) Run #2  1027 non-null   float64\n",
      " 2   Position (mm) Run #3  1027 non-null   float64\n",
      " 3   Position (mm) Run #4  1027 non-null   float64\n",
      " 4   Position (mm) Run #5  1027 non-null   float64\n",
      " 5   Position (mm) Run #6  1027 non-null   float64\n",
      "dtypes: float64(6)\n",
      "memory usage: 56.2 KB\n",
      "\n",
      "key: sonar_pretensionata_statico\n",
      "<class 'pandas.core.frame.DataFrame'>\n",
      "Index: 1029 entries, 1 to 1029\n",
      "Data columns (total 7 columns):\n",
      " #   Column                Non-Null Count  Dtype  \n",
      "---  ------                --------------  -----  \n",
      " 0   Position (mm) Run #1  1029 non-null   float64\n",
      " 1   Position (mm) Run #2  1029 non-null   float64\n",
      " 2   Position (mm) Run #3  1029 non-null   float64\n",
      " 3   Position (mm) Run #4  1029 non-null   float64\n",
      " 4   Position (mm) Run #5  1029 non-null   float64\n",
      " 5   Position (mm) Run #6  1029 non-null   float64\n",
      " 6   Position (mm) Run #7  1029 non-null   float64\n",
      "dtypes: float64(7)\n",
      "memory usage: 64.3 KB\n",
      "\n",
      "key: sonar_non-pretensionata_dinamico\n",
      "<class 'pandas.core.frame.DataFrame'>\n",
      "Index: 3245 entries, 1 to 3245\n",
      "Data columns (total 5 columns):\n",
      " #   Column                Non-Null Count  Dtype  \n",
      "---  ------                --------------  -----  \n",
      " 0   Position (mm) Run #1  3245 non-null   float64\n",
      " 1   Position (mm) Run #2  3245 non-null   float64\n",
      " 2   Position (mm) Run #3  3245 non-null   float64\n",
      " 3   Position (mm) Run #4  3245 non-null   float64\n",
      " 4   Position (mm) Run #5  3245 non-null   float64\n",
      "dtypes: float64(5)\n",
      "memory usage: 152.1 KB\n",
      "\n",
      "key: sonar_pretensionata_dinamico\n",
      "<class 'pandas.core.frame.DataFrame'>\n",
      "Index: 2116 entries, 1 to 2116\n",
      "Data columns (total 6 columns):\n",
      " #   Column                Non-Null Count  Dtype  \n",
      "---  ------                --------------  -----  \n",
      " 0   Position (mm) Run #1  2116 non-null   float64\n",
      " 1   Position (mm) Run #2  2116 non-null   float64\n",
      " 2   Position (mm) Run #3  2116 non-null   float64\n",
      " 3   Position (mm) Run #4  2116 non-null   float64\n",
      " 4   Position (mm) Run #5  2116 non-null   float64\n",
      " 5   Position (mm) Run #6  2116 non-null   float64\n",
      "dtypes: float64(6)\n",
      "memory usage: 115.7 KB\n",
      "\n",
      "key: masse_sonar_non-pretensionata\n",
      "<class 'pandas.core.frame.DataFrame'>\n",
      "RangeIndex: 6 entries, 0 to 5\n",
      "Data columns (total 1 columns):\n",
      " #   Column                                  Non-Null Count  Dtype \n",
      "---  ------                                  --------------  ----- \n",
      " 0   Masse (sonar, molla non pretensionata)  5 non-null      object\n",
      "dtypes: object(1)\n",
      "memory usage: 180.0+ bytes\n",
      "\n",
      "key: calibro_pretensionata_statico\n",
      "<class 'pandas.core.frame.DataFrame'>\n",
      "RangeIndex: 5 entries, 0 to 4\n",
      "Data columns (total 3 columns):\n",
      " #   Column                                Non-Null Count  Dtype  \n",
      "---  ------                                --------------  -----  \n",
      " 0   Masse (calibro, molla pretensionata)  5 non-null      object \n",
      " 1   H(mm)                                 5 non-null      float64\n",
      " 2   H(in)                                 5 non-null      float64\n",
      "dtypes: float64(2), object(1)\n",
      "memory usage: 252.0+ bytes\n",
      "\n",
      "key: masse_sonar_pretensionata\n",
      "<class 'pandas.core.frame.DataFrame'>\n",
      "RangeIndex: 7 entries, 0 to 6\n",
      "Data columns (total 1 columns):\n",
      " #   Column                              Non-Null Count  Dtype \n",
      "---  ------                              --------------  ----- \n",
      " 0   Masse (sonar, molla pretensionata)  7 non-null      object\n",
      "dtypes: object(1)\n",
      "memory usage: 188.0+ bytes\n",
      "\n",
      "key: misure_masse\n",
      "<class 'pandas.core.frame.DataFrame'>\n",
      "RangeIndex: 13 entries, 0 to 12\n",
      "Data columns (total 2 columns):\n",
      " #   Column     Non-Null Count  Dtype  \n",
      "---  ------     --------------  -----  \n",
      " 0   oggetto    13 non-null     object \n",
      " 1   massa [g]  13 non-null     float64\n",
      "dtypes: float64(1), object(1)\n",
      "memory usage: 340.0+ bytes\n",
      "\n",
      "key: calibro_non-pretensionata_statico\n",
      "<class 'pandas.core.frame.DataFrame'>\n",
      "RangeIndex: 3 entries, 0 to 2\n",
      "Data columns (total 3 columns):\n",
      " #   Column                             Non-Null Count  Dtype  \n",
      "---  ------                             --------------  -----  \n",
      " 0   Masse (calibro, non pretensionata  3 non-null      object \n",
      " 1   H(mm)                              3 non-null      float64\n",
      " 2   H(inches)                          3 non-null      float64\n",
      "dtypes: float64(2), object(1)\n",
      "memory usage: 204.0+ bytes\n"
     ]
    }
   ],
   "source": [
    "def read_csv(filename: str):\n",
    "    data = pd.read_csv(filename, sep=\";\").replace(\",\", \".\", regex=True)\n",
    "\n",
    "    data.dropna(inplace=True)\n",
    "    data.drop(\n",
    "        index=data.index[0], axis=0, inplace=True\n",
    "    )  # instrument error causes first value to be nonsensical\n",
    "\n",
    "    for col in data.columns:\n",
    "        data[col] = data[col].apply(pd.to_numeric)\n",
    "\n",
    "    return data\n",
    "\n",
    "\n",
    "def read_excel(filename: str):\n",
    "    data = pd.read_excel(filename)\n",
    "    return data\n",
    "\n",
    "\n",
    "datasets = dict()\n",
    "\n",
    "for file in csv_data + excel_data:\n",
    "    key = os.path.basename(file).split(\".\")[0]\n",
    "    if \"csv\" in file:\n",
    "        datasets[key] = read_csv(file)\n",
    "    elif \"xlsx\" in file:\n",
    "        datasets[key] = read_excel(file)\n",
    "\n",
    "print(datasets.keys())\n",
    "\n",
    "for k in datasets.keys():\n",
    "    print(f\"\\nkey: {k}\")\n",
    "    datasets[k].info()"
   ]
  },
  {
   "cell_type": "markdown",
   "metadata": {},
   "source": [
    "## Analyze data\n",
    "\n",
    "For the **static method**, the sonar's signal is hypothesized to have a very small amplitude, so the measure of the mass' displacement is the mean of the recorded positions.<BR><BR>\n",
    "For the **dynamic method**, we isolate the peaks of the oscillating signal and compute the mean of the period between two adjacent peaks. From there, the resulting period is used to approximate the frequency of the oscillation."
   ]
  },
  {
   "cell_type": "code",
   "execution_count": 35,
   "metadata": {},
   "outputs": [
    {
     "name": "stdout",
     "output_type": "stream",
     "text": [
      "['sonar_non-pretensionata_statico', 'sonar_pretensionata_statico', 'calibro_pretensionata_statico', 'calibro_non-pretensionata_statico']\n",
      "['sonar_non-pretensionata_dinamico', 'sonar_pretensionata_dinamico']\n",
      "[ 28.15  47.69  67.32  87.18 107.31 127.3  146.96 166.87 186.86 206.87]\n"
     ]
    }
   ],
   "source": [
    "static_keys = list(filter(lambda k: \"statico\" in k, datasets.keys()))\n",
    "dynamic_keys = list(filter(lambda k: \"dinamico\" in k, datasets.keys()))\n",
    "\n",
    "print(f\"{static_keys}\\n{dynamic_keys}\")\n",
    "\n",
    "static_datasets = {k: datasets[k] for k in static_keys}\n",
    "dynamic_datasets = {k: datasets[k] for k in dynamic_keys}\n",
    "\n",
    "masses = datasets[\"misure_masse\"]  # it's going to be used a lot, so...\n",
    "\n",
    "masse_crescenti = np.zeros(10)\n",
    "masse_crescenti[0] = masses[\"massa [g]\"][2] + masses[\"massa [g]\"][3]\n",
    "for i in range(0, 9):\n",
    "    masse_crescenti[i + 1] = masse_crescenti[i] + masses[\"massa [g]\"][i + 4]"
   ]
  },
  {
   "cell_type": "markdown",
   "metadata": {},
   "source": [
    "### Static method"
   ]
  },
  {
   "cell_type": "code",
   "execution_count": 17,
   "metadata": {},
   "outputs": [
    {
     "name": "stdout",
     "output_type": "stream",
     "text": [
      "[  0.19 -12.71 -25.71 -38.34 -51.45 -64.31 -77.2 ]\n"
     ]
    },
    {
     "ename": "KeyError",
     "evalue": "-1",
     "output_type": "error",
     "traceback": [
      "\u001b[0;31m---------------------------------------------------------------------------\u001b[0m",
      "\u001b[0;31mKeyError\u001b[0m                                  Traceback (most recent call last)",
      "File \u001b[0;32m/Library/Frameworks/Python.framework/Versions/3.12/lib/python3.12/site-packages/pandas/core/indexes/base.py:3805\u001b[0m, in \u001b[0;36mIndex.get_loc\u001b[0;34m(self, key)\u001b[0m\n\u001b[1;32m   3804\u001b[0m \u001b[38;5;28;01mtry\u001b[39;00m:\n\u001b[0;32m-> 3805\u001b[0m     \u001b[38;5;28;01mreturn\u001b[39;00m \u001b[38;5;28;43mself\u001b[39;49m\u001b[38;5;241;43m.\u001b[39;49m\u001b[43m_engine\u001b[49m\u001b[38;5;241;43m.\u001b[39;49m\u001b[43mget_loc\u001b[49m\u001b[43m(\u001b[49m\u001b[43mcasted_key\u001b[49m\u001b[43m)\u001b[49m\n\u001b[1;32m   3806\u001b[0m \u001b[38;5;28;01mexcept\u001b[39;00m \u001b[38;5;167;01mKeyError\u001b[39;00m \u001b[38;5;28;01mas\u001b[39;00m err:\n",
      "File \u001b[0;32mindex.pyx:167\u001b[0m, in \u001b[0;36mpandas._libs.index.IndexEngine.get_loc\u001b[0;34m()\u001b[0m\n",
      "File \u001b[0;32mindex.pyx:196\u001b[0m, in \u001b[0;36mpandas._libs.index.IndexEngine.get_loc\u001b[0;34m()\u001b[0m\n",
      "File \u001b[0;32mpandas/_libs/hashtable_class_helper.pxi:7081\u001b[0m, in \u001b[0;36mpandas._libs.hashtable.PyObjectHashTable.get_item\u001b[0;34m()\u001b[0m\n",
      "File \u001b[0;32mpandas/_libs/hashtable_class_helper.pxi:7089\u001b[0m, in \u001b[0;36mpandas._libs.hashtable.PyObjectHashTable.get_item\u001b[0;34m()\u001b[0m\n",
      "\u001b[0;31mKeyError\u001b[0m: -1",
      "\nThe above exception was the direct cause of the following exception:\n",
      "\u001b[0;31mKeyError\u001b[0m                                  Traceback (most recent call last)",
      "Cell \u001b[0;32mIn[17], line 12\u001b[0m\n\u001b[1;32m      9\u001b[0m averages \u001b[38;5;241m=\u001b[39m np\u001b[38;5;241m.\u001b[39mround_(averages, decimals\u001b[38;5;241m=\u001b[39m\u001b[38;5;241m2\u001b[39m)\n\u001b[1;32m     10\u001b[0m \u001b[38;5;28mprint\u001b[39m(averages)\n\u001b[0;32m---> 12\u001b[0m k \u001b[38;5;241m=\u001b[39m \u001b[38;5;241m9.81\u001b[39m \u001b[38;5;241m*\u001b[39m (\u001b[43mmasses\u001b[49m\u001b[43m[\u001b[49m\u001b[38;5;241;43m-\u001b[39;49m\u001b[38;5;241;43m1\u001b[39;49m\u001b[43m]\u001b[49m \u001b[38;5;241m-\u001b[39m masses[\u001b[38;5;241m0\u001b[39m]) \u001b[38;5;241m/\u001b[39m (averages[\u001b[38;5;241m-\u001b[39m\u001b[38;5;241m1\u001b[39m] \u001b[38;5;241m-\u001b[39m averages[\u001b[38;5;241m0\u001b[39m])\n\u001b[1;32m     13\u001b[0m \u001b[38;5;28mprint\u001b[39m(k)\n",
      "File \u001b[0;32m/Library/Frameworks/Python.framework/Versions/3.12/lib/python3.12/site-packages/pandas/core/frame.py:4090\u001b[0m, in \u001b[0;36mDataFrame.__getitem__\u001b[0;34m(self, key)\u001b[0m\n\u001b[1;32m   4088\u001b[0m \u001b[38;5;28;01mif\u001b[39;00m \u001b[38;5;28mself\u001b[39m\u001b[38;5;241m.\u001b[39mcolumns\u001b[38;5;241m.\u001b[39mnlevels \u001b[38;5;241m>\u001b[39m \u001b[38;5;241m1\u001b[39m:\n\u001b[1;32m   4089\u001b[0m     \u001b[38;5;28;01mreturn\u001b[39;00m \u001b[38;5;28mself\u001b[39m\u001b[38;5;241m.\u001b[39m_getitem_multilevel(key)\n\u001b[0;32m-> 4090\u001b[0m indexer \u001b[38;5;241m=\u001b[39m \u001b[38;5;28;43mself\u001b[39;49m\u001b[38;5;241;43m.\u001b[39;49m\u001b[43mcolumns\u001b[49m\u001b[38;5;241;43m.\u001b[39;49m\u001b[43mget_loc\u001b[49m\u001b[43m(\u001b[49m\u001b[43mkey\u001b[49m\u001b[43m)\u001b[49m\n\u001b[1;32m   4091\u001b[0m \u001b[38;5;28;01mif\u001b[39;00m is_integer(indexer):\n\u001b[1;32m   4092\u001b[0m     indexer \u001b[38;5;241m=\u001b[39m [indexer]\n",
      "File \u001b[0;32m/Library/Frameworks/Python.framework/Versions/3.12/lib/python3.12/site-packages/pandas/core/indexes/base.py:3812\u001b[0m, in \u001b[0;36mIndex.get_loc\u001b[0;34m(self, key)\u001b[0m\n\u001b[1;32m   3807\u001b[0m     \u001b[38;5;28;01mif\u001b[39;00m \u001b[38;5;28misinstance\u001b[39m(casted_key, \u001b[38;5;28mslice\u001b[39m) \u001b[38;5;129;01mor\u001b[39;00m (\n\u001b[1;32m   3808\u001b[0m         \u001b[38;5;28misinstance\u001b[39m(casted_key, abc\u001b[38;5;241m.\u001b[39mIterable)\n\u001b[1;32m   3809\u001b[0m         \u001b[38;5;129;01mand\u001b[39;00m \u001b[38;5;28many\u001b[39m(\u001b[38;5;28misinstance\u001b[39m(x, \u001b[38;5;28mslice\u001b[39m) \u001b[38;5;28;01mfor\u001b[39;00m x \u001b[38;5;129;01min\u001b[39;00m casted_key)\n\u001b[1;32m   3810\u001b[0m     ):\n\u001b[1;32m   3811\u001b[0m         \u001b[38;5;28;01mraise\u001b[39;00m InvalidIndexError(key)\n\u001b[0;32m-> 3812\u001b[0m     \u001b[38;5;28;01mraise\u001b[39;00m \u001b[38;5;167;01mKeyError\u001b[39;00m(key) \u001b[38;5;28;01mfrom\u001b[39;00m \u001b[38;5;21;01merr\u001b[39;00m\n\u001b[1;32m   3813\u001b[0m \u001b[38;5;28;01mexcept\u001b[39;00m \u001b[38;5;167;01mTypeError\u001b[39;00m:\n\u001b[1;32m   3814\u001b[0m     \u001b[38;5;66;03m# If we have a listlike key, _check_indexing_error will raise\u001b[39;00m\n\u001b[1;32m   3815\u001b[0m     \u001b[38;5;66;03m#  InvalidIndexError. Otherwise we fall through and re-raise\u001b[39;00m\n\u001b[1;32m   3816\u001b[0m     \u001b[38;5;66;03m#  the TypeError.\u001b[39;00m\n\u001b[1;32m   3817\u001b[0m     \u001b[38;5;28mself\u001b[39m\u001b[38;5;241m.\u001b[39m_check_indexing_error(key)\n",
      "\u001b[0;31mKeyError\u001b[0m: -1"
     ]
    }
   ],
   "source": [
    "# Analyze static method\n",
    "\n",
    "averages = np.zeros(7)\n",
    "for run in range(7):\n",
    "    averages[run] += np.mean(\n",
    "        datasets[\"sonar_pretensionata_statico\"][f\"Position (mm) Run #{run+1}\"]\n",
    "    )\n",
    "\n",
    "averages = np.round_(averages, decimals=2)\n",
    "print(averages)\n",
    "\n",
    "k = 9.81 * (masses[-1] - masses[0]) / (averages[-1] - averages[0])\n",
    "print(k)"
   ]
  },
  {
   "cell_type": "markdown",
   "metadata": {},
   "source": [
    "### Dynamic method"
   ]
  },
  {
   "cell_type": "code",
   "execution_count": null,
   "metadata": {},
   "outputs": [],
   "source": [
    "# Analyze dynamic method\n",
    "\n",
    "\n",
    "def discrete_derivative(domain: list, curve: list):\n",
    "    d = [0]\n",
    "    for i in range(1, len(curve)):\n",
    "        d.append((curve[i] - curve[i - 1]) / (domain[i] - domain[i - 1]))\n",
    "    return d\n",
    "\n",
    "\n",
    "# windowed peaks isolation\n",
    "def windowed_peaks(signal: list):\n",
    "    peaks = []\n",
    "    for i in range(2, len(signal) - 2, 4):\n",
    "        if (\n",
    "            reduce(\n",
    "                lambda x, y: x * y,\n",
    "                discrete_derivative(list(range(i - 2, i + 3)), signal[i - 2 : i + 3]),\n",
    "            )\n",
    "            < 0\n",
    "        ):\n",
    "            peaks.append(max(signal[i - 2 : i + 3]))\n",
    "    return peaks"
   ]
  },
  {
   "cell_type": "code",
   "execution_count": null,
   "metadata": {},
   "outputs": [],
   "source": [
    "def calculate_mean_period(column_id: str):\n",
    "    wf = data[column_id].array\n",
    "    for v in wf:\n",
    "        print(windowed_peaks(wf))\n",
    "\n",
    "\n",
    "# calculate_mean_period(data[data.columns[0]])\n",
    "\n",
    "# for col in data.columns:\n",
    "# calculate_mean_period(col)"
   ]
  }
 ],
 "metadata": {
  "kernelspec": {
   "display_name": "Python 3",
   "language": "python",
   "name": "python3"
  },
  "language_info": {
   "codemirror_mode": {
    "name": "ipython",
    "version": 3
   },
   "file_extension": ".py",
   "mimetype": "text/x-python",
   "name": "python",
   "nbconvert_exporter": "python",
   "pygments_lexer": "ipython3",
   "version": "3.12.2"
  }
 },
 "nbformat": 4,
 "nbformat_minor": 2
}
